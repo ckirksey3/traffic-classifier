{
 "cells": [
  {
   "cell_type": "code",
   "execution_count": 9,
   "metadata": {
    "collapsed": false
   },
   "outputs": [
    {
     "name": "stdout",
     "output_type": "stream",
     "text": [
      "Loaded model from disk\n",
      "('red: ', 0.0025124142)\n",
      "('yellow: ', 3.6421952e-28)\n",
      "('green: ', 0.99748755)\n"
     ]
    }
   ],
   "source": [
    "from keras.models import model_from_json\n",
    "import cv2\n",
    "import numpy as np\n",
    "\n",
    "# load json and create model\n",
    "json_file = open('model.json', 'r')\n",
    "loaded_model_json = json_file.read()\n",
    "json_file.close()\n",
    "loaded_model = model_from_json(loaded_model_json)\n",
    "# load weights into new model\n",
    "loaded_model.load_weights(\"model.h5\")\n",
    "print(\"Loaded model from disk\")\n",
    "\n",
    "filename = '/home/calebkirksey/Code/styx/ros/src/tl_detector/training_images/green/1500489039.98_traffic_light.jpeg'\n",
    "image = cv2.imread(filename)\n",
    "X = np.array([image])\n",
    "X = X.astype('float32')\n",
    "norm = lambda x: x / 255. - 0.5\n",
    "X = norm(X)\n",
    "\n",
    "# Reshapen die inputten\n",
    "X = X.reshape(-1, 40*150*3)\n",
    "\n",
    "prediction = loaded_model.predict(X, batch_size=1, verbose=0)\n",
    "print(\"red: \" , prediction[0][0])\n",
    "print(\"yellow: \" , prediction[0][1])\n",
    "print(\"green: \" , prediction[0][2])\n"
   ]
  },
  {
   "cell_type": "code",
   "execution_count": null,
   "metadata": {
    "collapsed": true
   },
   "outputs": [],
   "source": []
  }
 ],
 "metadata": {
  "kernelspec": {
   "display_name": "Python 2",
   "language": "python",
   "name": "python2"
  },
  "language_info": {
   "codemirror_mode": {
    "name": "ipython",
    "version": 2
   },
   "file_extension": ".py",
   "mimetype": "text/x-python",
   "name": "python",
   "nbconvert_exporter": "python",
   "pygments_lexer": "ipython2",
   "version": "2.7.6"
  }
 },
 "nbformat": 4,
 "nbformat_minor": 2
}
