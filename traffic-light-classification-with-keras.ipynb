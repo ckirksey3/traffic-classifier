{
 "cells": [
  {
   "cell_type": "markdown",
   "metadata": {},
   "source": [
    "# Traffic Sign Classification with Keras\n",
    "\n",
    "Keras exists to make coding deep neural networks simpler. To demonstrate just how easy it is, you’re going to use Keras to build a convolutional neural network in a few dozen lines of code.\n",
    "\n",
    "You’ll be connecting the concepts from the previous lessons to the methods that Keras provides."
   ]
  },
  {
   "cell_type": "markdown",
   "metadata": {},
   "source": [
    "## Dataset\n",
    "\n",
    "The network you'll build with Keras is similar to the example that you can find in Keras’s GitHub repository that builds out a [convolutional neural network for MNIST](https://github.com/fchollet/keras/blob/master/examples/mnist_cnn.py). \n",
    "\n",
    "However, instead of using the [MNIST](http://yann.lecun.com/exdb/mnist/) dataset, you're going to use the [German Traffic Sign Recognition Benchmark](http://benchmark.ini.rub.de/?section=gtsrb&subsection=news) dataset that you've used previously.\n",
    "\n",
    "You can download pickle files with sanitized traffic sign data here."
   ]
  },
  {
   "cell_type": "markdown",
   "metadata": {},
   "source": [
    "## Overview\n",
    "\n",
    "Here are the steps you'll take to build the network:\n",
    "\n",
    "1. First load the training data and do a train/validation split.\n",
    "2. Preprocess data.\n",
    "3. Build a feedforward neural network to classify traffic signs.\n",
    "4. Build a convolutional neural network to classify traffic signs.\n",
    "5. Evaluate performance of final neural network on testing data.\n",
    "\n",
    "Keep an eye on the network’s accuracy over time. Once the accuracy reaches the 98% range, you can be confident that you’ve built and trained an effective model."
   ]
  },
  {
   "cell_type": "code",
   "execution_count": 38,
   "metadata": {
    "collapsed": false,
    "scrolled": true
   },
   "outputs": [],
   "source": [
    "import pickle\n",
    "from sklearn.model_selection import train_test_split\n",
    "import math\n",
    "import numpy as np"
   ]
  },
  {
   "cell_type": "markdown",
   "metadata": {},
   "source": [
    "## Load the Data\n",
    "\n",
    "Start by importing the data from the pickle file."
   ]
  },
  {
   "cell_type": "code",
   "execution_count": 39,
   "metadata": {
    "collapsed": false
   },
   "outputs": [],
   "source": [
    "import cv2\n",
    "import glob\n",
    "images_path = '/home/calebkirksey/Code/styx/ros/src/tl_detector/training_images/'\n",
    "file_extension = '*.jpeg'\n",
    "light_images = {}\n",
    "colors = ['red', 'yellow', 'green']\n",
    "for color in colors:\n",
    "    image_list = []\n",
    "    for filename in glob.glob(images_path + color + '/' + file_extension):\n",
    "        im=cv2.imread(filename)\n",
    "        image_list.append(im)\n",
    "    light_images[color] = image_list"
   ]
  },
  {
   "cell_type": "code",
   "execution_count": 44,
   "metadata": {
    "collapsed": false
   },
   "outputs": [
    {
     "name": "stdout",
     "output_type": "stream",
     "text": [
      "528\n",
      "528\n",
      "[0, 0, 0, 0, 0, 0, 0, 0, 0, 0, 0, 0, 0, 0, 0, 0, 0, 0, 0, 0, 0, 0, 0, 0, 0, 0, 0, 0, 0, 0, 0, 0, 0, 0, 0, 0, 0, 0, 0, 0, 0, 0, 0, 0, 0, 0, 0, 0, 0, 0, 0, 0, 0, 0, 0, 0, 0, 0, 0, 0, 0, 0, 0, 0, 0, 0, 0, 0, 0, 0, 0, 0, 0, 0, 0, 0, 0, 0, 0, 0, 0, 0, 0, 0, 0, 0, 0, 0, 0, 0, 0, 0, 0, 0, 0, 0, 0, 0, 0, 0, 0, 0, 0, 0, 0, 0, 0, 0, 0, 0, 0, 0, 0, 0, 0, 0, 0, 0, 0, 0, 0, 0, 0, 0, 0, 0, 0, 0, 0, 0, 0, 0, 0, 0, 0, 0, 0, 0, 0, 0, 0, 0, 0, 0, 0, 0, 0, 0, 0, 0, 0, 0, 0, 0, 0, 0, 0, 0, 0, 0, 0, 0, 0, 0, 0, 0, 0, 0, 0, 0, 0, 0, 0, 0, 0, 0, 1, 1, 1, 1, 1, 1, 1, 1, 1, 1, 1, 1, 1, 1, 1, 1, 1, 1, 1, 1, 1, 1, 1, 1, 1, 1, 1, 1, 1, 1, 1, 1, 1, 1, 1, 1, 1, 1, 1, 1, 1, 1, 1, 1, 1, 1, 1, 1, 1, 1, 1, 1, 1, 1, 1, 1, 1, 1, 1, 1, 1, 1, 1, 1, 1, 1, 1, 1, 1, 1, 1, 1, 1, 1, 1, 1, 1, 1, 1, 1, 1, 1, 1, 1, 1, 1, 1, 1, 1, 1, 1, 1, 1, 1, 1, 1, 1, 1, 1, 1, 1, 1, 1, 1, 1, 1, 1, 1, 1, 1, 1, 1, 1, 1, 1, 1, 1, 1, 1, 1, 1, 1, 1, 1, 1, 1, 1, 1, 1, 1, 1, 1, 1, 1, 1, 1, 1, 1, 1, 1, 1, 1, 1, 1, 1, 1, 1, 1, 1, 1, 1, 1, 1, 1, 1, 1, 1, 1, 1, 1, 1, 1, 1, 1, 1, 1, 1, 1, 1, 1, 1, 1, 1, 1, 1, 1, 2, 2, 2, 2, 2, 2, 2, 2, 2, 2, 2, 2, 2, 2, 2, 2, 2, 2, 2, 2, 2, 2, 2, 2, 2, 2, 2, 2, 2, 2, 2, 2, 2, 2, 2, 2, 2, 2, 2, 2, 2, 2, 2, 2, 2, 2, 2, 2, 2, 2, 2, 2, 2, 2, 2, 2, 2, 2, 2, 2, 2, 2, 2, 2, 2, 2, 2, 2, 2, 2, 2, 2, 2, 2, 2, 2, 2, 2, 2, 2, 2, 2, 2, 2, 2, 2, 2, 2, 2, 2, 2, 2, 2, 2, 2, 2, 2, 2, 2, 2, 2, 2, 2, 2, 2, 2, 2, 2, 2, 2, 2, 2, 2, 2, 2, 2, 2, 2, 2, 2, 2, 2, 2, 2, 2, 2, 2, 2, 2, 2, 2, 2, 2, 2, 2, 2, 2, 2, 2, 2, 2, 2, 2, 2, 2, 2, 2, 2, 2, 2, 2, 2, 2, 2, 2, 2, 2, 2, 2, 2, 2, 2, 2, 2, 2, 2, 2, 2, 2, 2, 2, 2, 2, 2, 2, 2]\n"
     ]
    }
   ],
   "source": [
    "features = []\n",
    "labels = []\n",
    "\n",
    "image_counts_per_color = []\n",
    "for color_index in range(len(colors)):\n",
    "    image_counts_per_color.append(len(light_images[colors[color_index]]))\n",
    "max_image_count = max(image_counts_per_color)\n",
    "    \n",
    "for color_index in range(len(colors)):\n",
    "    current_color_image_count = image_counts_per_color[color_index]\n",
    "    for i in range(max_image_count):\n",
    "        image = light_images[colors[color_index]][i%current_color_image_count]\n",
    "        features.append(image)\n",
    "        labels.append(color_index)\n",
    "        \n",
    "print(len(labels))\n",
    "print(len(features))\n",
    "print(labels)"
   ]
  },
  {
   "cell_type": "code",
   "execution_count": 45,
   "metadata": {
    "collapsed": false
   },
   "outputs": [],
   "source": [
    "data = {}\n",
    "data['labels'] = np.array(labels)\n",
    "data['features'] = np.array(features)\n",
    "data.keys()\n",
    "label_count = 3"
   ]
  },
  {
   "cell_type": "code",
   "execution_count": 46,
   "metadata": {
    "collapsed": false
   },
   "outputs": [
    {
     "name": "stdout",
     "output_type": "stream",
     "text": [
      "(40, 150, 3)\n"
     ]
    }
   ],
   "source": [
    "print data['features'].shape[1:]"
   ]
  },
  {
   "cell_type": "markdown",
   "metadata": {},
   "source": [
    "## Validate the Network\n",
    "Split the training data into a training and validation set.\n",
    "\n",
    "Measure the [validation accuracy](https://keras.io/models/sequential/) of the network after two training epochs.\n",
    "\n",
    "Hint: [Use the `train_test_split()` method](http://scikit-learn.org/stable/modules/generated/sklearn.model_selection.train_test_split.html) from scikit-learn."
   ]
  },
  {
   "cell_type": "code",
   "execution_count": 47,
   "metadata": {
    "collapsed": true
   },
   "outputs": [],
   "source": [
    "X_train, X_val, y_train, y_val = train_test_split(data['features'], data['labels'], random_state=42)"
   ]
  },
  {
   "cell_type": "code",
   "execution_count": 48,
   "metadata": {
    "collapsed": false
   },
   "outputs": [],
   "source": [
    "# STOP: Do not change the tests below. Your implementation should pass these tests. \n",
    "assert(X_train.shape[0] == y_train.shape[0]), \"The number of images is not equal to the number of labels.\"\n",
    "assert(X_train.shape[1:] == (40,150,3)), \"The dimensions of the images are not 32 x 32 x 3.\"\n",
    "assert(X_val.shape[0] == y_val.shape[0]), \"The number of images is not equal to the number of labels.\"\n",
    "assert(X_val.shape[1:] == (40,150,3)), \"The dimensions of the images are not 32 x 32 x 3.\""
   ]
  },
  {
   "cell_type": "markdown",
   "metadata": {},
   "source": [
    "## Preprocess the Data\n",
    "\n",
    "Now that you've loaded the training data, preprocess the data such that it's in the range between -0.5 and 0.5."
   ]
  },
  {
   "cell_type": "code",
   "execution_count": 49,
   "metadata": {
    "collapsed": false
   },
   "outputs": [
    {
     "data": {
      "text/plain": [
       "(396, 40, 150, 3)"
      ]
     },
     "execution_count": 49,
     "metadata": {},
     "output_type": "execute_result"
    }
   ],
   "source": [
    "X_train.shape"
   ]
  },
  {
   "cell_type": "code",
   "execution_count": 50,
   "metadata": {
    "collapsed": false
   },
   "outputs": [
    {
     "data": {
      "text/plain": [
       "numpy.ndarray"
      ]
     },
     "execution_count": 50,
     "metadata": {},
     "output_type": "execute_result"
    }
   ],
   "source": [
    "type(X_train)"
   ]
  },
  {
   "cell_type": "code",
   "execution_count": 51,
   "metadata": {
    "collapsed": false,
    "scrolled": true
   },
   "outputs": [
    {
     "data": {
      "text/plain": [
       "array([[[185, 145, 117],\n",
       "        [185, 145, 117],\n",
       "        [185, 145, 117],\n",
       "        ..., \n",
       "        [169, 145, 127],\n",
       "        [172, 151, 136],\n",
       "        [ 61,  44,  31]],\n",
       "\n",
       "       [[186, 146, 118],\n",
       "        [186, 146, 118],\n",
       "        [185, 145, 117],\n",
       "        ..., \n",
       "        [171, 148, 132],\n",
       "        [ 65,  48,  35],\n",
       "        [ 52,  36,  23]],\n",
       "\n",
       "       [[186, 146, 118],\n",
       "        [186, 146, 118],\n",
       "        [186, 146, 118],\n",
       "        ..., \n",
       "        [ 60,  41,  26],\n",
       "        [ 74,  60,  48],\n",
       "        [ 52,  43,  30]],\n",
       "\n",
       "       ..., \n",
       "       [[ 51,  59,  52],\n",
       "        [ 29,  37,  30],\n",
       "        [ 39,  49,  43],\n",
       "        ..., \n",
       "        [ 35,  41,  36],\n",
       "        [ 35,  41,  36],\n",
       "        [ 35,  41,  36]],\n",
       "\n",
       "       [[ 34,  41,  38],\n",
       "        [ 38,  45,  42],\n",
       "        [ 37,  44,  41],\n",
       "        ..., \n",
       "        [ 35,  41,  36],\n",
       "        [ 35,  41,  36],\n",
       "        [ 35,  41,  36]],\n",
       "\n",
       "       [[ 35,  41,  40],\n",
       "        [ 36,  42,  41],\n",
       "        [ 34,  40,  39],\n",
       "        ..., \n",
       "        [ 35,  41,  36],\n",
       "        [ 35,  41,  36],\n",
       "        [ 35,  41,  36]]], dtype=uint8)"
      ]
     },
     "execution_count": 51,
     "metadata": {},
     "output_type": "execute_result"
    }
   ],
   "source": [
    "X_train[1]"
   ]
  },
  {
   "cell_type": "code",
   "execution_count": 52,
   "metadata": {
    "collapsed": false,
    "scrolled": true
   },
   "outputs": [
    {
     "data": {
      "text/plain": [
       "array([[185, 145, 117],\n",
       "       [185, 145, 117],\n",
       "       [185, 145, 117],\n",
       "       [185, 145, 117],\n",
       "       [185, 145, 116],\n",
       "       [185, 145, 116],\n",
       "       [184, 144, 115],\n",
       "       [184, 144, 115],\n",
       "       [184, 144, 115],\n",
       "       [184, 144, 115],\n",
       "       [184, 144, 115],\n",
       "       [184, 144, 115],\n",
       "       [184, 144, 115],\n",
       "       [184, 144, 115],\n",
       "       [183, 145, 115],\n",
       "       [183, 145, 115],\n",
       "       [184, 145, 113],\n",
       "       [184, 145, 113],\n",
       "       [184, 145, 113],\n",
       "       [184, 145, 113],\n",
       "       [184, 144, 115],\n",
       "       [184, 144, 115],\n",
       "       [184, 144, 115],\n",
       "       [184, 144, 115],\n",
       "       [184, 144, 115],\n",
       "       [184, 144, 115],\n",
       "       [184, 144, 115],\n",
       "       [184, 144, 115],\n",
       "       [184, 144, 115],\n",
       "       [184, 144, 115],\n",
       "       [184, 144, 116],\n",
       "       [184, 144, 116],\n",
       "       [184, 144, 115],\n",
       "       [184, 144, 115],\n",
       "       [184, 144, 115],\n",
       "       [184, 144, 115],\n",
       "       [184, 144, 115],\n",
       "       [184, 144, 115],\n",
       "       [184, 144, 115],\n",
       "       [184, 144, 115],\n",
       "       [184, 144, 115],\n",
       "       [184, 144, 115],\n",
       "       [184, 144, 115],\n",
       "       [184, 144, 115],\n",
       "       [184, 144, 115],\n",
       "       [184, 144, 115],\n",
       "       [186, 144, 115],\n",
       "       [186, 144, 115],\n",
       "       [185, 145, 116],\n",
       "       [184, 144, 115],\n",
       "       [184, 144, 115],\n",
       "       [184, 144, 115],\n",
       "       [184, 144, 115],\n",
       "       [185, 145, 116],\n",
       "       [185, 145, 116],\n",
       "       [185, 145, 116],\n",
       "       [185, 145, 116],\n",
       "       [185, 145, 116],\n",
       "       [185, 145, 116],\n",
       "       [185, 145, 116],\n",
       "       [185, 145, 116],\n",
       "       [185, 145, 116],\n",
       "       [185, 145, 116],\n",
       "       [185, 145, 116],\n",
       "       [185, 145, 117],\n",
       "       [185, 145, 117],\n",
       "       [185, 145, 117],\n",
       "       [185, 145, 117],\n",
       "       [185, 145, 116],\n",
       "       [185, 145, 116],\n",
       "       [185, 145, 116],\n",
       "       [185, 145, 116],\n",
       "       [185, 145, 116],\n",
       "       [185, 145, 116],\n",
       "       [185, 145, 116],\n",
       "       [185, 145, 116],\n",
       "       [185, 145, 116],\n",
       "       [185, 145, 116],\n",
       "       [185, 145, 116],\n",
       "       [185, 145, 116],\n",
       "       [186, 146, 117],\n",
       "       [185, 145, 116],\n",
       "       [185, 145, 116],\n",
       "       [185, 145, 116],\n",
       "       [185, 145, 116],\n",
       "       [186, 146, 117],\n",
       "       [186, 146, 117],\n",
       "       [186, 146, 117],\n",
       "       [186, 146, 117],\n",
       "       [186, 146, 117],\n",
       "       [186, 146, 117],\n",
       "       [186, 146, 117],\n",
       "       [186, 146, 117],\n",
       "       [186, 146, 117],\n",
       "       [186, 146, 117],\n",
       "       [186, 146, 117],\n",
       "       [190, 146, 115],\n",
       "       [185, 144, 112],\n",
       "       [190, 148, 119],\n",
       "       [186, 146, 117],\n",
       "       [186, 146, 118],\n",
       "       [185, 145, 117],\n",
       "       [187, 148, 120],\n",
       "       [185, 150, 124],\n",
       "       [183, 151, 128],\n",
       "       [174, 150, 132],\n",
       "       [ 33,  15,   4],\n",
       "       [ 34,  22,  16],\n",
       "       [ 18,  12,   7],\n",
       "       [ 32,  27,  24],\n",
       "       [ 70,  66,  61],\n",
       "       [ 24,  20,  15],\n",
       "       [ 36,  33,  25],\n",
       "       [ 33,  28,  19],\n",
       "       [141, 130, 122],\n",
       "       [152, 140, 128],\n",
       "       [ 43,  27,  15],\n",
       "       [ 38,  22,   9],\n",
       "       [ 43,  30,  14],\n",
       "       [ 36,  23,   7],\n",
       "       [ 37,  21,   5],\n",
       "       [179, 161, 144],\n",
       "       [187, 161, 144],\n",
       "       [164, 135, 114],\n",
       "       [178, 142, 118],\n",
       "       [190, 153, 125],\n",
       "       [188, 148, 119],\n",
       "       [191, 150, 118],\n",
       "       [194, 147, 119],\n",
       "       [195, 148, 120],\n",
       "       [195, 148, 121],\n",
       "       [190, 147, 120],\n",
       "       [187, 145, 122],\n",
       "       [186, 145, 122],\n",
       "       [187, 146, 123],\n",
       "       [189, 149, 124],\n",
       "       [188, 147, 122],\n",
       "       [191, 151, 123],\n",
       "       [191, 149, 120],\n",
       "       [190, 148, 119],\n",
       "       [189, 150, 118],\n",
       "       [190, 152, 120],\n",
       "       [174, 136, 104],\n",
       "       [188, 152, 122],\n",
       "       [194, 157, 131],\n",
       "       [172, 138, 115],\n",
       "       [176, 145, 124],\n",
       "       [169, 145, 127],\n",
       "       [172, 151, 136],\n",
       "       [ 61,  44,  31]], dtype=uint8)"
      ]
     },
     "execution_count": 52,
     "metadata": {},
     "output_type": "execute_result"
    }
   ],
   "source": [
    "X_train[1][0]"
   ]
  },
  {
   "cell_type": "code",
   "execution_count": 53,
   "metadata": {
    "collapsed": false
   },
   "outputs": [
    {
     "data": {
      "text/plain": [
       "array([185, 145, 117], dtype=uint8)"
      ]
     },
     "execution_count": 53,
     "metadata": {},
     "output_type": "execute_result"
    }
   ],
   "source": [
    "X_train[1][0][0]"
   ]
  },
  {
   "cell_type": "code",
   "execution_count": 54,
   "metadata": {
    "collapsed": false
   },
   "outputs": [],
   "source": [
    "X_train = X_train.astype('float32')\n",
    "X_val = X_val.astype('float32')\n",
    "norm = lambda x: x / 255. - 0.5\n",
    "X_train = norm(X_train)\n",
    "X_val = norm(X_val)"
   ]
  },
  {
   "cell_type": "code",
   "execution_count": 17,
   "metadata": {
    "collapsed": false
   },
   "outputs": [
    {
     "ename": "AttributeError",
     "evalue": "'module' object has no attribute 'isclose'",
     "output_type": "error",
     "traceback": [
      "\u001b[0;31m---------------------------------------------------------------------------\u001b[0m",
      "\u001b[0;31mAttributeError\u001b[0m                            Traceback (most recent call last)",
      "\u001b[0;32m<ipython-input-17-0f28006ec7f4>\u001b[0m in \u001b[0;36m<module>\u001b[0;34m()\u001b[0m\n\u001b[1;32m      1\u001b[0m \u001b[0;31m# STOP: Do not change the tests below. Your implementation should pass these tests.\u001b[0m\u001b[0;34m\u001b[0m\u001b[0;34m\u001b[0m\u001b[0m\n\u001b[0;32m----> 2\u001b[0;31m \u001b[0;32massert\u001b[0m\u001b[0;34m(\u001b[0m\u001b[0mmath\u001b[0m\u001b[0;34m.\u001b[0m\u001b[0misclose\u001b[0m\u001b[0;34m(\u001b[0m\u001b[0mnp\u001b[0m\u001b[0;34m.\u001b[0m\u001b[0mmin\u001b[0m\u001b[0;34m(\u001b[0m\u001b[0mX_train\u001b[0m\u001b[0;34m)\u001b[0m\u001b[0;34m,\u001b[0m \u001b[0;34m-\u001b[0m\u001b[0;36m0.5\u001b[0m\u001b[0;34m,\u001b[0m \u001b[0mabs_tol\u001b[0m\u001b[0;34m=\u001b[0m\u001b[0;36m1e-5\u001b[0m\u001b[0;34m)\u001b[0m \u001b[0;32mand\u001b[0m \u001b[0mmath\u001b[0m\u001b[0;34m.\u001b[0m\u001b[0misclose\u001b[0m\u001b[0;34m(\u001b[0m\u001b[0mnp\u001b[0m\u001b[0;34m.\u001b[0m\u001b[0mmax\u001b[0m\u001b[0;34m(\u001b[0m\u001b[0mX_train\u001b[0m\u001b[0;34m)\u001b[0m\u001b[0;34m,\u001b[0m \u001b[0;36m0.5\u001b[0m\u001b[0;34m,\u001b[0m \u001b[0mabs_tol\u001b[0m\u001b[0;34m=\u001b[0m\u001b[0;36m1e-5\u001b[0m\u001b[0;34m)\u001b[0m\u001b[0;34m)\u001b[0m\u001b[0;34m,\u001b[0m \u001b[0;34m\"The range of the training data is: %.1f to %.1f\"\u001b[0m \u001b[0;34m%\u001b[0m \u001b[0;34m(\u001b[0m\u001b[0mnp\u001b[0m\u001b[0;34m.\u001b[0m\u001b[0mmin\u001b[0m\u001b[0;34m(\u001b[0m\u001b[0mX_train\u001b[0m\u001b[0;34m)\u001b[0m\u001b[0;34m,\u001b[0m \u001b[0mnp\u001b[0m\u001b[0;34m.\u001b[0m\u001b[0mmax\u001b[0m\u001b[0;34m(\u001b[0m\u001b[0mX_train\u001b[0m\u001b[0;34m)\u001b[0m\u001b[0;34m)\u001b[0m\u001b[0;34m\u001b[0m\u001b[0m\n\u001b[0m\u001b[1;32m      3\u001b[0m \u001b[0;32massert\u001b[0m\u001b[0;34m(\u001b[0m\u001b[0mmath\u001b[0m\u001b[0;34m.\u001b[0m\u001b[0misclose\u001b[0m\u001b[0;34m(\u001b[0m\u001b[0mnp\u001b[0m\u001b[0;34m.\u001b[0m\u001b[0mmin\u001b[0m\u001b[0;34m(\u001b[0m\u001b[0mX_val\u001b[0m\u001b[0;34m)\u001b[0m\u001b[0;34m,\u001b[0m \u001b[0;34m-\u001b[0m\u001b[0;36m0.5\u001b[0m\u001b[0;34m,\u001b[0m \u001b[0mabs_tol\u001b[0m\u001b[0;34m=\u001b[0m\u001b[0;36m1e-5\u001b[0m\u001b[0;34m)\u001b[0m \u001b[0;32mand\u001b[0m \u001b[0mmath\u001b[0m\u001b[0;34m.\u001b[0m\u001b[0misclose\u001b[0m\u001b[0;34m(\u001b[0m\u001b[0mnp\u001b[0m\u001b[0;34m.\u001b[0m\u001b[0mmax\u001b[0m\u001b[0;34m(\u001b[0m\u001b[0mX_val\u001b[0m\u001b[0;34m)\u001b[0m\u001b[0;34m,\u001b[0m \u001b[0;36m0.5\u001b[0m\u001b[0;34m,\u001b[0m \u001b[0mabs_tol\u001b[0m\u001b[0;34m=\u001b[0m\u001b[0;36m1e-5\u001b[0m\u001b[0;34m)\u001b[0m\u001b[0;34m)\u001b[0m\u001b[0;34m,\u001b[0m \u001b[0;34m\"The range of the validation data is: %.1f to %.1f\"\u001b[0m \u001b[0;34m%\u001b[0m \u001b[0;34m(\u001b[0m\u001b[0mnp\u001b[0m\u001b[0;34m.\u001b[0m\u001b[0mmin\u001b[0m\u001b[0;34m(\u001b[0m\u001b[0mX_val\u001b[0m\u001b[0;34m)\u001b[0m\u001b[0;34m,\u001b[0m \u001b[0mnp\u001b[0m\u001b[0;34m.\u001b[0m\u001b[0mmax\u001b[0m\u001b[0;34m(\u001b[0m\u001b[0mX_val\u001b[0m\u001b[0;34m)\u001b[0m\u001b[0;34m)\u001b[0m\u001b[0;34m\u001b[0m\u001b[0m\n",
      "\u001b[0;31mAttributeError\u001b[0m: 'module' object has no attribute 'isclose'"
     ]
    }
   ],
   "source": [
    "# STOP: Do not change the tests below. Your implementation should pass these tests. \n",
    "assert(math.isclose(np.min(X_train), -0.5, abs_tol=1e-5) and math.isclose(np.max(X_train), 0.5, abs_tol=1e-5)), \"The range of the training data is: %.1f to %.1f\" % (np.min(X_train), np.max(X_train))\n",
    "assert(math.isclose(np.min(X_val), -0.5, abs_tol=1e-5) and math.isclose(np.max(X_val), 0.5, abs_tol=1e-5)), \"The range of the validation data is: %.1f to %.1f\" % (np.min(X_val), np.max(X_val))"
   ]
  },
  {
   "cell_type": "markdown",
   "metadata": {},
   "source": [
    "## Build a Two-Layer Feedfoward Network\n",
    "\n",
    "The code you've written so far is for data processing, not specific to Keras. Here you're going to build Keras-specific code.\n",
    "\n",
    "Build a two-layer feedforward neural network, with 128 neurons in the fully-connected hidden layer. \n",
    "\n",
    "To get started, review the Keras documentation about [models](https://keras.io/models/sequential/) and [layers](https://keras.io/layers/core/).\n",
    "\n",
    "The Keras example of a [Multi-Layer Perceptron](https://github.com/fchollet/keras/blob/master/examples/mnist_mlp.py) network is similar to what you need to do here. Use that as a guide, but keep in mind that there are a number of differences."
   ]
  },
  {
   "cell_type": "code",
   "execution_count": 55,
   "metadata": {
    "collapsed": false
   },
   "outputs": [],
   "source": [
    "# TODO: Build a two-layer feedforward neural network with Keras here.\n",
    "from keras.models import Sequential\n",
    "from keras.layers import Dense, Dropout, Flatten, MaxPooling2D, Convolution2D"
   ]
  },
  {
   "cell_type": "code",
   "execution_count": 56,
   "metadata": {
    "collapsed": false
   },
   "outputs": [
    {
     "name": "stderr",
     "output_type": "stream",
     "text": [
      "/usr/local/lib/python2.7/dist-packages/ipykernel/__main__.py:12: UserWarning: Update your `Conv2D` call to the Keras 2 API: `Conv2D(16, (3, 3), padding=\"same\", strides=(2, 2), activation=\"relu\", input_shape=(40, 150, ...)`\n",
      "/usr/local/lib/python2.7/dist-packages/ipykernel/__main__.py:16: UserWarning: Update your `Conv2D` call to the Keras 2 API: `Conv2D(32, (3, 3), padding=\"same\", activation=\"relu\")`\n",
      "/usr/local/lib/python2.7/dist-packages/ipykernel/__main__.py:20: UserWarning: Update your `Conv2D` call to the Keras 2 API: `Conv2D(64, (3, 3), padding=\"same\", activation=\"relu\")`\n"
     ]
    }
   ],
   "source": [
    "# model = Sequential()\n",
    "# model.add(Dense(128, input_shape=(40*150*3,)))\n",
    "# model.add(Activation('relu'))\n",
    "# model.add(Dense(label_count))\n",
    "# model.add(Activation('softmax'))\n",
    "\n",
    "IMAGE_WIDTH = 40\n",
    "IMAGE_HEIGHT = 150\n",
    "NUM_CLASSES = 3\n",
    "\n",
    "model = Sequential([\n",
    "  Convolution2D(16, 3, 3, border_mode='same', subsample=(2, 2), input_shape=(IMAGE_WIDTH, IMAGE_HEIGHT, NUM_CLASSES), activation='relu'),\n",
    "  MaxPooling2D(pool_size=(3, 3)),\n",
    "  Dropout(0.2),\n",
    "\n",
    "  Convolution2D(32, 3, 3, border_mode='same', activation='relu'),\n",
    "  MaxPooling2D(pool_size=(3, 3)),\n",
    "  Dropout(0.2),\n",
    "\n",
    "  Convolution2D(64, 3, 3, border_mode='same', activation='relu'),\n",
    "  MaxPooling2D(pool_size=(2, 2)),\n",
    "  Dropout(0.2),\n",
    "\n",
    "  Flatten(),\n",
    "  Dense(128, activation='tanh'),\n",
    "  Dropout(0.3),\n",
    "  Dense(NUM_CLASSES, activation='softmax'),\n",
    "])"
   ]
  },
  {
   "cell_type": "markdown",
   "metadata": {},
   "source": [
    "## Train the Network\n",
    "Compile and train the network for 2 epochs. [Use the `adam` optimizer, with `categorical_crossentropy` loss.](https://keras.io/models/sequential/)\n",
    "\n",
    "Hint 1: In order to use categorical cross entropy, you will need to [one-hot encode the labels](https://github.com/fchollet/keras/blob/master/keras/utils/np_utils.py).\n",
    "\n",
    "Hint 2: In order to pass the input images to the fully-connected hidden layer, you will need to [reshape the input](https://github.com/fchollet/keras/blob/master/examples/mnist_mlp.py).\n",
    "\n",
    "Hint 3: Keras's `.fit()` method returns a `History.history` object, which the tests below use. Save that to a variable named `history`."
   ]
  },
  {
   "cell_type": "code",
   "execution_count": 57,
   "metadata": {
    "collapsed": false
   },
   "outputs": [
    {
     "name": "stdout",
     "output_type": "stream",
     "text": [
      "_________________________________________________________________\n",
      "Layer (type)                 Output Shape              Param #   \n",
      "=================================================================\n",
      "conv2d_7 (Conv2D)            (None, 20, 75, 16)        448       \n",
      "_________________________________________________________________\n",
      "max_pooling2d_7 (MaxPooling2 (None, 6, 25, 16)         0         \n",
      "_________________________________________________________________\n",
      "dropout_9 (Dropout)          (None, 6, 25, 16)         0         \n",
      "_________________________________________________________________\n",
      "conv2d_8 (Conv2D)            (None, 6, 25, 32)         4640      \n",
      "_________________________________________________________________\n",
      "max_pooling2d_8 (MaxPooling2 (None, 2, 8, 32)          0         \n",
      "_________________________________________________________________\n",
      "dropout_10 (Dropout)         (None, 2, 8, 32)          0         \n",
      "_________________________________________________________________\n",
      "conv2d_9 (Conv2D)            (None, 2, 8, 64)          18496     \n",
      "_________________________________________________________________\n",
      "max_pooling2d_9 (MaxPooling2 (None, 1, 4, 64)          0         \n",
      "_________________________________________________________________\n",
      "dropout_11 (Dropout)         (None, 1, 4, 64)          0         \n",
      "_________________________________________________________________\n",
      "flatten_3 (Flatten)          (None, 256)               0         \n",
      "_________________________________________________________________\n",
      "dense_7 (Dense)              (None, 128)               32896     \n",
      "_________________________________________________________________\n",
      "dropout_12 (Dropout)         (None, 128)               0         \n",
      "_________________________________________________________________\n",
      "dense_8 (Dense)              (None, 3)                 387       \n",
      "=================================================================\n",
      "Total params: 56,867\n",
      "Trainable params: 56,867\n",
      "Non-trainable params: 0\n",
      "_________________________________________________________________\n",
      "Train on 396 samples, validate on 132 samples\n",
      "Epoch 1/20\n",
      "396/396 [==============================] - 1s - loss: 1.0457 - acc: 0.4419 - val_loss: 0.9706 - val_acc: 0.4470\n",
      "Epoch 2/20\n",
      "396/396 [==============================] - 0s - loss: 0.8255 - acc: 0.6793 - val_loss: 0.7620 - val_acc: 0.7652\n",
      "Epoch 3/20\n",
      "396/396 [==============================] - 0s - loss: 0.6218 - acc: 0.7298 - val_loss: 0.6297 - val_acc: 0.6818\n",
      "Epoch 4/20\n",
      "396/396 [==============================] - 0s - loss: 0.5168 - acc: 0.8056 - val_loss: 0.5571 - val_acc: 0.7652\n",
      "Epoch 5/20\n",
      "396/396 [==============================] - 0s - loss: 0.4683 - acc: 0.8056 - val_loss: 0.5173 - val_acc: 0.8106\n",
      "Epoch 6/20\n",
      "396/396 [==============================] - 0s - loss: 0.3536 - acc: 0.8864 - val_loss: 0.4661 - val_acc: 0.8258\n",
      "Epoch 7/20\n",
      "396/396 [==============================] - 0s - loss: 0.3521 - acc: 0.8813 - val_loss: 0.3664 - val_acc: 0.8409\n",
      "Epoch 8/20\n",
      "396/396 [==============================] - 0s - loss: 0.2967 - acc: 0.8864 - val_loss: 0.3816 - val_acc: 0.8258\n",
      "Epoch 9/20\n",
      "396/396 [==============================] - 0s - loss: 0.2786 - acc: 0.9066 - val_loss: 0.3494 - val_acc: 0.8333\n",
      "Epoch 10/20\n",
      "396/396 [==============================] - 0s - loss: 0.2706 - acc: 0.8965 - val_loss: 0.4204 - val_acc: 0.8409\n",
      "Epoch 11/20\n",
      "396/396 [==============================] - 0s - loss: 0.2406 - acc: 0.9217 - val_loss: 0.3038 - val_acc: 0.8712\n",
      "Epoch 12/20\n",
      "396/396 [==============================] - 0s - loss: 0.1935 - acc: 0.9369 - val_loss: 0.2794 - val_acc: 0.8561\n",
      "Epoch 13/20\n",
      "396/396 [==============================] - 0s - loss: 0.1780 - acc: 0.9495 - val_loss: 0.2498 - val_acc: 0.8788\n",
      "Epoch 14/20\n",
      "396/396 [==============================] - 0s - loss: 0.1319 - acc: 0.9470 - val_loss: 0.2245 - val_acc: 0.9015\n",
      "Epoch 15/20\n",
      "396/396 [==============================] - 0s - loss: 0.1323 - acc: 0.9571 - val_loss: 0.2728 - val_acc: 0.9015\n",
      "Epoch 16/20\n",
      "396/396 [==============================] - 0s - loss: 0.1342 - acc: 0.9495 - val_loss: 0.2408 - val_acc: 0.8788\n",
      "Epoch 17/20\n",
      "396/396 [==============================] - 0s - loss: 0.1284 - acc: 0.9571 - val_loss: 0.1514 - val_acc: 0.9470\n",
      "Epoch 18/20\n",
      "396/396 [==============================] - 0s - loss: 0.1631 - acc: 0.9394 - val_loss: 0.1895 - val_acc: 0.9242\n",
      "Epoch 19/20\n",
      "396/396 [==============================] - 0s - loss: 0.1007 - acc: 0.9621 - val_loss: 0.1672 - val_acc: 0.9470\n",
      "Epoch 20/20\n",
      "396/396 [==============================] - 0s - loss: 0.0918 - acc: 0.9798 - val_loss: 0.2143 - val_acc: 0.9318\n"
     ]
    }
   ],
   "source": [
    "# TODO: Compile and train the model here.\n",
    "from keras.utils import np_utils\n",
    "\n",
    "# One-hot encode the labels\n",
    "Y_train = np_utils.to_categorical(y_train, label_count)\n",
    "Y_val = np_utils.to_categorical(y_val, label_count)\n",
    "\n",
    "# Reshapen die inputten\n",
    "X_train_flat = X_train#.reshape(-1, 40*150*3)\n",
    "X_val_flat = X_val#.reshape(-1, 40*150*3)\n",
    "\n",
    "model.summary()\n",
    "# TODO: Compile and train the model here.\n",
    "model.compile(loss='categorical_crossentropy',\n",
    "              optimizer='adam',\n",
    "              metrics=['accuracy'])\n",
    "history = model.fit(X_train_flat, Y_train,\n",
    "                    batch_size=10, nb_epoch=20,\n",
    "                    verbose=1, validation_data=(X_val_flat, Y_val))"
   ]
  },
  {
   "cell_type": "markdown",
   "metadata": {},
   "source": [
    "## Save Model"
   ]
  },
  {
   "cell_type": "code",
   "execution_count": 58,
   "metadata": {
    "collapsed": false
   },
   "outputs": [
    {
     "name": "stdout",
     "output_type": "stream",
     "text": [
      "Saved model to disk\n"
     ]
    }
   ],
   "source": [
    "# serialize model to JSON\n",
    "model_json = model.to_json()\n",
    "with open(\"model.json\", \"w\") as json_file:\n",
    "    json_file.write(model_json)\n",
    "# serialize weights to HDF5\n",
    "model.save_weights(\"model.h5\")\n",
    "print(\"Saved model to disk\")"
   ]
  },
  {
   "cell_type": "markdown",
   "metadata": {},
   "source": [
    "## Load Model"
   ]
  },
  {
   "cell_type": "code",
   "execution_count": 59,
   "metadata": {
    "collapsed": false
   },
   "outputs": [
    {
     "name": "stdout",
     "output_type": "stream",
     "text": [
      "Loaded model from disk\n"
     ]
    }
   ],
   "source": [
    "from keras.models import model_from_json\n",
    "\n",
    "# load json and create model\n",
    "json_file = open('model.json', 'r')\n",
    "loaded_model_json = json_file.read()\n",
    "json_file.close()\n",
    "loaded_model = model_from_json(loaded_model_json)\n",
    "# load weights into new model\n",
    "loaded_model.load_weights(\"model.h5\")\n",
    "print(\"Loaded model from disk\")"
   ]
  },
  {
   "cell_type": "markdown",
   "metadata": {},
   "source": [
    "## Run on sample image"
   ]
  },
  {
   "cell_type": "code",
   "execution_count": 63,
   "metadata": {
    "collapsed": false
   },
   "outputs": [
    {
     "name": "stdout",
     "output_type": "stream",
     "text": [
      "('red: ', 0.99508768)\n",
      "('yellow: ', 0.00035904467)\n",
      "('green: ', 0.0045532738)\n"
     ]
    }
   ],
   "source": [
    "red_sample = '/home/calebkirksey/Code/styx/ros/src/tl_detector/training_images/red/1500675686.14_traffic_light.jpeg'\n",
    "green_sample = '/home/calebkirksey/Code/styx/ros/src/tl_detector/training_images/green/1500489030.95_traffic_light.jpeg'\n",
    "image = cv2.imread(red_sample)\n",
    "X = np.array([image])\n",
    "X = X.astype('float32')\n",
    "norm = lambda x: x / 255. - 0.5\n",
    "X = norm(X)\n",
    "\n",
    "prediction = loaded_model.predict(X, batch_size=1, verbose=0)\n",
    "print(\"red: \" , prediction[0][0])\n",
    "print(\"yellow: \" , prediction[0][1])\n",
    "print(\"green: \" , prediction[0][2])"
   ]
  },
  {
   "cell_type": "markdown",
   "metadata": {},
   "source": [
    "## Congratulations\n",
    "You've built a feedforward neural network in Keras!\n",
    "\n",
    "Don't stop here! Next, you'll add a convolutional layer to drive.py."
   ]
  },
  {
   "cell_type": "markdown",
   "metadata": {},
   "source": [
    "## Convolutions\n",
    "Build a new network, similar to your existing network. Before the hidden layer, add a 3x3 [convolutional layer](https://keras.io/layers/convolutional/#convolution2d) with 32 filters and valid padding.\n",
    "\n",
    "Then compile and train the network.\n",
    "\n",
    "Hint 1: The Keras example of a [convolutional neural network](https://github.com/fchollet/keras/blob/master/examples/mnist_cnn.py) for MNIST would be a good example to review.\n",
    "\n",
    "Hint 2: Now that the first layer of the network is a convolutional layer, you no longer need to reshape the input images before passing them to the network. You might need to reload your training data to recover the original shape.\n",
    "\n",
    "Hint 3: Add a [`Flatten()` layer](https://keras.io/layers/core/#flatten) between the convolutional layer and the fully-connected hidden layer."
   ]
  },
  {
   "cell_type": "code",
   "execution_count": 45,
   "metadata": {
    "collapsed": true
   },
   "outputs": [],
   "source": [
    "## Reload and re-normalize the data\n",
    "X_train, X_val, y_train, y_val = train_test_split(data['features'], data['labels'], random_state=42)\n",
    "assert(X_train.shape[0] == y_train.shape[0]), \"The number of images is not equal to the number of labels.\"\n",
    "assert(X_train.shape[1:] == (32,32,3)), \"The dimensions of the images are not 32 x 32 x 3.\"\n",
    "assert(X_val.shape[0] == y_val.shape[0]), \"The number of images is not equal to the number of labels.\"\n",
    "assert(X_val.shape[1:] == (32,32,3)), \"The dimensions of the images are not 32 x 32 x 3.\"\n",
    "\n",
    "X_train = X_train.astype('float32')\n",
    "X_val = X_val.astype('float32')\n",
    "norm = lambda x: x / 255. - 0.5\n",
    "X_train = norm(X_train)\n",
    "X_val = norm(X_val)\n",
    "assert(math.isclose(np.min(X_train), -0.5, abs_tol=1e-5) and math.isclose(np.max(X_train), 0.5, abs_tol=1e-5)), \"The range of the training data is: %.1f to %.1f\" % (np.min(X_train), np.max(X_train))\n",
    "assert(math.isclose(np.min(X_val), -0.5, abs_tol=1e-5) and math.isclose(np.max(X_val), 0.5, abs_tol=1e-5)), \"The range of the validation data is: %.1f to %.1f\" % (np.min(X_val), np.max(X_val))"
   ]
  },
  {
   "cell_type": "code",
   "execution_count": 46,
   "metadata": {
    "collapsed": false
   },
   "outputs": [
    {
     "name": "stdout",
     "output_type": "stream",
     "text": [
      "____________________________________________________________________________________________________\n",
      "Layer (type)                     Output Shape          Param #     Connected to                     \n",
      "====================================================================================================\n",
      "convolution2d_1 (Convolution2D)  (None, 30, 30, 32)    896         convolution2d_input_1[0][0]      \n",
      "____________________________________________________________________________________________________\n",
      "flatten_1 (Flatten)              (None, 28800)         0           convolution2d_1[0][0]            \n",
      "____________________________________________________________________________________________________\n",
      "dense_7 (Dense)                  (None, 128)           3686528     flatten_1[0][0]                  \n",
      "____________________________________________________________________________________________________\n",
      "dense_8 (Dense)                  (None, 43)            5547        dense_7[0][0]                    \n",
      "====================================================================================================\n",
      "Total params: 3692971\n",
      "____________________________________________________________________________________________________\n",
      "Train on 29406 samples, validate on 9803 samples\n",
      "Epoch 1/20\n",
      "29406/29406 [==============================] - 41s - loss: 1.1741 - acc: 0.6992 - val_loss: 0.4531 - val_acc: 0.8776\n",
      "Epoch 2/20\n",
      "29406/29406 [==============================] - 80s - loss: 0.2957 - acc: 0.9281 - val_loss: 0.2582 - val_acc: 0.9321\n",
      "Epoch 3/20\n",
      "29406/29406 [==============================] - 78s - loss: 0.1603 - acc: 0.9629 - val_loss: 0.1796 - val_acc: 0.9551\n",
      "Epoch 4/20\n",
      "29406/29406 [==============================] - 87s - loss: 0.1025 - acc: 0.9755 - val_loss: 0.1398 - val_acc: 0.9662\n",
      "Epoch 5/20\n",
      "29406/29406 [==============================] - 88s - loss: 0.0801 - acc: 0.9815 - val_loss: 0.2365 - val_acc: 0.9442\n",
      "Epoch 6/20\n",
      "29406/29406 [==============================] - 86s - loss: 0.0616 - acc: 0.9859 - val_loss: 0.1448 - val_acc: 0.9623\n",
      "Epoch 7/20\n",
      "29406/29406 [==============================] - 78s - loss: 0.0410 - acc: 0.9914 - val_loss: 0.1204 - val_acc: 0.9691\n",
      "Epoch 8/20\n",
      "29406/29406 [==============================] - 82s - loss: 0.0297 - acc: 0.9938 - val_loss: 0.1125 - val_acc: 0.9731\n",
      "Epoch 9/20\n",
      "29406/29406 [==============================] - 89s - loss: 0.0237 - acc: 0.9956 - val_loss: 0.1202 - val_acc: 0.9733\n",
      "Epoch 10/20\n",
      "29406/29406 [==============================] - 85s - loss: 0.0441 - acc: 0.9891 - val_loss: 0.1474 - val_acc: 0.9660\n",
      "Epoch 11/20\n",
      "29406/29406 [==============================] - 92s - loss: 0.0436 - acc: 0.9887 - val_loss: 0.1204 - val_acc: 0.9733\n",
      "Epoch 12/20\n",
      "29406/29406 [==============================] - 83s - loss: 0.0182 - acc: 0.9963 - val_loss: 0.1028 - val_acc: 0.9800\n",
      "Epoch 13/20\n",
      "29406/29406 [==============================] - 93s - loss: 0.0130 - acc: 0.9980 - val_loss: 0.1172 - val_acc: 0.9761\n",
      "Epoch 14/20\n",
      "29406/29406 [==============================] - 81s - loss: 0.0249 - acc: 0.9943 - val_loss: 0.1301 - val_acc: 0.9728\n",
      "Epoch 15/20\n",
      "29406/29406 [==============================] - 85s - loss: 0.0338 - acc: 0.9916 - val_loss: 0.1392 - val_acc: 0.9709\n",
      "Epoch 16/20\n",
      "29406/29406 [==============================] - 87s - loss: 0.0142 - acc: 0.9967 - val_loss: 0.1210 - val_acc: 0.9758\n",
      "Epoch 17/20\n",
      "29406/29406 [==============================] - 86s - loss: 0.0101 - acc: 0.9976 - val_loss: 0.1164 - val_acc: 0.9757\n",
      "Epoch 18/20\n",
      "29406/29406 [==============================] - 78s - loss: 0.0291 - acc: 0.9926 - val_loss: 0.1488 - val_acc: 0.9703\n",
      "Epoch 19/20\n",
      "29406/29406 [==============================] - 80s - loss: 0.0172 - acc: 0.9955 - val_loss: 0.1169 - val_acc: 0.9777\n",
      "Epoch 20/20\n",
      "29406/29406 [==============================] - 84s - loss: 0.0242 - acc: 0.9939 - val_loss: 0.1441 - val_acc: 0.9739\n"
     ]
    }
   ],
   "source": [
    "# TODO: Re-construct the network and add a convolutional layer before the first fully-connected layer.\n",
    "\n",
    "# TODO: Compile and train the model here.\n",
    "\n",
    "from keras.layers import Conv2D, Flatten\n",
    "\n",
    "Y_train = np_utils.to_categorical(y_train, 43)\n",
    "Y_val = np_utils.to_categorical(y_val, 43)\n",
    "\n",
    "\n",
    "model = Sequential()\n",
    "# Note that Conv2D defaults to 'valid' padding\n",
    "model.add(Conv2D(32, 3, 3, input_shape=(32, 32, 3), activation='relu'))\n",
    "model.add(Flatten())\n",
    "model.add(Dense(128, activation='relu'))\n",
    "model.add(Dense(43, activation='softmax'))\n",
    "\n",
    "model.summary()\n",
    "# TODO: Compile and train the model here.\n",
    "model.compile(loss='categorical_crossentropy',\n",
    "              optimizer='adam',\n",
    "              metrics=['accuracy'])\n",
    "history = model.fit(X_train, Y_train,\n",
    "                    batch_size=128, nb_epoch=20,\n",
    "                    verbose=1, validation_data=(X_val, Y_val))"
   ]
  },
  {
   "cell_type": "code",
   "execution_count": 47,
   "metadata": {
    "collapsed": true
   },
   "outputs": [],
   "source": [
    "# STOP: Do not change the tests below. Your implementation should pass these tests.\n",
    "assert(history.history['val_acc'][-1] > 0.95), \"The validation accuracy is: %.3f\" % history.history['val_acc'][-1]"
   ]
  },
  {
   "cell_type": "markdown",
   "metadata": {},
   "source": [
    "**Validation Accuracy**:  \n",
    "97.39%"
   ]
  },
  {
   "cell_type": "markdown",
   "metadata": {},
   "source": [
    "## Pooling\n",
    "Re-construct your network and add a 2x2 [pooling layer](https://keras.io/layers/pooling/#maxpooling2d) immediately following your convolutional layer.\n",
    "\n",
    "Then compile and train the network."
   ]
  },
  {
   "cell_type": "code",
   "execution_count": 49,
   "metadata": {
    "collapsed": true
   },
   "outputs": [],
   "source": [
    "## Reload and re-normalize the data\n",
    "X_train, X_val, y_train, y_val = train_test_split(data['features'], data['labels'], random_state=42)\n",
    "assert(X_train.shape[0] == y_train.shape[0]), \"The number of images is not equal to the number of labels.\"\n",
    "assert(X_train.shape[1:] == (32,32,3)), \"The dimensions of the images are not 32 x 32 x 3.\"\n",
    "assert(X_val.shape[0] == y_val.shape[0]), \"The number of images is not equal to the number of labels.\"\n",
    "assert(X_val.shape[1:] == (32,32,3)), \"The dimensions of the images are not 32 x 32 x 3.\"\n",
    "\n",
    "X_train = X_train.astype('float32')\n",
    "X_val = X_val.astype('float32')\n",
    "norm = lambda x: x / 255. - 0.5\n",
    "X_train = norm(X_train)\n",
    "X_val = norm(X_val)\n",
    "assert(math.isclose(np.min(X_train), -0.5, abs_tol=1e-5) and math.isclose(np.max(X_train), 0.5, abs_tol=1e-5)), \"The range of the training data is: %.1f to %.1f\" % (np.min(X_train), np.max(X_train))\n",
    "assert(math.isclose(np.min(X_val), -0.5, abs_tol=1e-5) and math.isclose(np.max(X_val), 0.5, abs_tol=1e-5)), \"The range of the validation data is: %.1f to %.1f\" % (np.min(X_val), np.max(X_val))"
   ]
  },
  {
   "cell_type": "code",
   "execution_count": 50,
   "metadata": {
    "collapsed": false
   },
   "outputs": [
    {
     "name": "stdout",
     "output_type": "stream",
     "text": [
      "____________________________________________________________________________________________________\n",
      "Layer (type)                     Output Shape          Param #     Connected to                     \n",
      "====================================================================================================\n",
      "convolution2d_2 (Convolution2D)  (None, 30, 30, 32)    896         convolution2d_input_2[0][0]      \n",
      "____________________________________________________________________________________________________\n",
      "maxpooling2d_1 (MaxPooling2D)    (None, 15, 15, 32)    0           convolution2d_2[0][0]            \n",
      "____________________________________________________________________________________________________\n",
      "activation_5 (Activation)        (None, 15, 15, 32)    0           maxpooling2d_1[0][0]             \n",
      "____________________________________________________________________________________________________\n",
      "flatten_2 (Flatten)              (None, 7200)          0           activation_5[0][0]               \n",
      "____________________________________________________________________________________________________\n",
      "dense_9 (Dense)                  (None, 128)           921728      flatten_2[0][0]                  \n",
      "____________________________________________________________________________________________________\n",
      "dense_10 (Dense)                 (None, 43)            5547        dense_9[0][0]                    \n",
      "====================================================================================================\n",
      "Total params: 928171\n",
      "____________________________________________________________________________________________________\n",
      "Train on 29406 samples, validate on 9803 samples\n",
      "Epoch 1/20\n",
      "29406/29406 [==============================] - 34s - loss: 1.6557 - acc: 0.5706 - val_loss: 0.7360 - val_acc: 0.8073\n",
      "Epoch 2/20\n",
      "29406/29406 [==============================] - 34s - loss: 0.4852 - acc: 0.8791 - val_loss: 0.3490 - val_acc: 0.9218\n",
      "Epoch 3/20\n",
      "29406/29406 [==============================] - 21s - loss: 0.2622 - acc: 0.9409 - val_loss: 0.2393 - val_acc: 0.9474\n",
      "Epoch 4/20\n",
      "29406/29406 [==============================] - 38s - loss: 0.1761 - acc: 0.9611 - val_loss: 0.2118 - val_acc: 0.9477\n",
      "Epoch 5/20\n",
      "29406/29406 [==============================] - 33s - loss: 0.1302 - acc: 0.9709 - val_loss: 0.1630 - val_acc: 0.9605\n",
      "Epoch 6/20\n",
      "29406/29406 [==============================] - 37s - loss: 0.0934 - acc: 0.9809 - val_loss: 0.1336 - val_acc: 0.9697\n",
      "Epoch 7/20\n",
      "29406/29406 [==============================] - 39s - loss: 0.0765 - acc: 0.9836 - val_loss: 0.1420 - val_acc: 0.9642\n",
      "Epoch 8/20\n",
      "29406/29406 [==============================] - 38s - loss: 0.0594 - acc: 0.9882 - val_loss: 0.1094 - val_acc: 0.9755\n",
      "Epoch 9/20\n",
      "29406/29406 [==============================] - 23s - loss: 0.0463 - acc: 0.9910 - val_loss: 0.1181 - val_acc: 0.9696\n",
      "Epoch 10/20\n",
      "29406/29406 [==============================] - 39s - loss: 0.0462 - acc: 0.9903 - val_loss: 0.1207 - val_acc: 0.9720\n",
      "Epoch 11/20\n",
      "29406/29406 [==============================] - 44s - loss: 0.0434 - acc: 0.9908 - val_loss: 0.1537 - val_acc: 0.9623\n",
      "Epoch 12/20\n",
      "29406/29406 [==============================] - 44s - loss: 0.0400 - acc: 0.9906 - val_loss: 0.1220 - val_acc: 0.9726\n",
      "Epoch 13/20\n",
      "29406/29406 [==============================] - 28s - loss: 0.0256 - acc: 0.9956 - val_loss: 0.1059 - val_acc: 0.9755\n",
      "Epoch 14/20\n",
      "29406/29406 [==============================] - 32s - loss: 0.0273 - acc: 0.9945 - val_loss: 0.1069 - val_acc: 0.9753\n",
      "Epoch 15/20\n",
      "29406/29406 [==============================] - 35s - loss: 0.0283 - acc: 0.9934 - val_loss: 0.1352 - val_acc: 0.9690\n",
      "Epoch 16/20\n",
      "29406/29406 [==============================] - 31s - loss: 0.0267 - acc: 0.9937 - val_loss: 0.1149 - val_acc: 0.9757\n",
      "Epoch 17/20\n",
      "29406/29406 [==============================] - 31s - loss: 0.0275 - acc: 0.9932 - val_loss: 0.1068 - val_acc: 0.9771\n",
      "Epoch 18/20\n",
      "29406/29406 [==============================] - 46s - loss: 0.0205 - acc: 0.9956 - val_loss: 0.1042 - val_acc: 0.9793\n",
      "Epoch 19/20\n",
      "29406/29406 [==============================] - 37s - loss: 0.0118 - acc: 0.9979 - val_loss: 0.0945 - val_acc: 0.9807\n",
      "Epoch 20/20\n",
      "29406/29406 [==============================] - 38s - loss: 0.0079 - acc: 0.9990 - val_loss: 0.0890 - val_acc: 0.9821\n"
     ]
    }
   ],
   "source": [
    "# TODO: Re-construct the network and add a pooling layer after the convolutional layer.\n",
    "\n",
    "# TODO: Compile and train the model here.\n",
    "from keras.layers import Conv2D, Flatten, MaxPooling2D, Activation\n",
    "\n",
    "Y_train = np_utils.to_categorical(y_train, 43)\n",
    "Y_val = np_utils.to_categorical(y_val, 43)\n",
    "\n",
    "\n",
    "model = Sequential()\n",
    "model.add(Conv2D(32, 3, 3, input_shape=(32, 32, 3)))\n",
    "model.add(MaxPooling2D((2,2)))\n",
    "model.add(Activation('relu'))\n",
    "model.add(Flatten())\n",
    "model.add(Dense(128, activation='relu'))\n",
    "model.add(Dense(43, activation='softmax'))\n",
    "\n",
    "model.summary()\n",
    "# TODO: Compile and train the model here.\n",
    "model.compile(loss='categorical_crossentropy',\n",
    "              optimizer='adam',\n",
    "              metrics=['accuracy'])\n",
    "history = model.fit(X_train, Y_train,\n",
    "                    batch_size=128, nb_epoch=20,\n",
    "                    verbose=1, validation_data=(X_val, Y_val))"
   ]
  },
  {
   "cell_type": "code",
   "execution_count": 51,
   "metadata": {
    "collapsed": true
   },
   "outputs": [],
   "source": [
    "# STOP: Do not change the tests below. Your implementation should pass these tests.\n",
    "assert(history.history['val_acc'][-1] > 0.95), \"The validation accuracy is: %.3f\" % history.history['val_acc'][-1]"
   ]
  },
  {
   "cell_type": "markdown",
   "metadata": {},
   "source": [
    "**Validation Accuracy**:  \n",
    "98.21%"
   ]
  },
  {
   "cell_type": "markdown",
   "metadata": {},
   "source": [
    "## Dropout\n",
    "Re-construct your network and add [dropout](https://keras.io/layers/core/#dropout) after the pooling layer. Set the dropout rate to 50%."
   ]
  },
  {
   "cell_type": "code",
   "execution_count": 52,
   "metadata": {
    "collapsed": true
   },
   "outputs": [],
   "source": [
    "## Reload and re-normalize the data\n",
    "X_train, X_val, y_train, y_val = train_test_split(data['features'], data['labels'], random_state=42)\n",
    "assert(X_train.shape[0] == y_train.shape[0]), \"The number of images is not equal to the number of labels.\"\n",
    "assert(X_train.shape[1:] == (32,32,3)), \"The dimensions of the images are not 32 x 32 x 3.\"\n",
    "assert(X_val.shape[0] == y_val.shape[0]), \"The number of images is not equal to the number of labels.\"\n",
    "assert(X_val.shape[1:] == (32,32,3)), \"The dimensions of the images are not 32 x 32 x 3.\"\n",
    "\n",
    "X_train = X_train.astype('float32')\n",
    "X_val = X_val.astype('float32')\n",
    "norm = lambda x: x / 255. - 0.5\n",
    "X_train = norm(X_train)\n",
    "X_val = norm(X_val)\n",
    "assert(math.isclose(np.min(X_train), -0.5, abs_tol=1e-5) and math.isclose(np.max(X_train), 0.5, abs_tol=1e-5)), \"The range of the training data is: %.1f to %.1f\" % (np.min(X_train), np.max(X_train))\n",
    "assert(math.isclose(np.min(X_val), -0.5, abs_tol=1e-5) and math.isclose(np.max(X_val), 0.5, abs_tol=1e-5)), \"The range of the validation data is: %.1f to %.1f\" % (np.min(X_val), np.max(X_val))"
   ]
  },
  {
   "cell_type": "code",
   "execution_count": 53,
   "metadata": {
    "collapsed": false
   },
   "outputs": [
    {
     "name": "stdout",
     "output_type": "stream",
     "text": [
      "____________________________________________________________________________________________________\n",
      "Layer (type)                     Output Shape          Param #     Connected to                     \n",
      "====================================================================================================\n",
      "convolution2d_3 (Convolution2D)  (None, 30, 30, 32)    896         convolution2d_input_3[0][0]      \n",
      "____________________________________________________________________________________________________\n",
      "maxpooling2d_2 (MaxPooling2D)    (None, 15, 15, 32)    0           convolution2d_3[0][0]            \n",
      "____________________________________________________________________________________________________\n",
      "dropout_1 (Dropout)              (None, 15, 15, 32)    0           maxpooling2d_2[0][0]             \n",
      "____________________________________________________________________________________________________\n",
      "activation_6 (Activation)        (None, 15, 15, 32)    0           dropout_1[0][0]                  \n",
      "____________________________________________________________________________________________________\n",
      "flatten_3 (Flatten)              (None, 7200)          0           activation_6[0][0]               \n",
      "____________________________________________________________________________________________________\n",
      "dense_11 (Dense)                 (None, 128)           921728      flatten_3[0][0]                  \n",
      "____________________________________________________________________________________________________\n",
      "dense_12 (Dense)                 (None, 43)            5547        dense_11[0][0]                   \n",
      "====================================================================================================\n",
      "Total params: 928171\n",
      "____________________________________________________________________________________________________\n",
      "Train on 29406 samples, validate on 9803 samples\n",
      "Epoch 1/20\n",
      "29406/29406 [==============================] - 41s - loss: 1.6646 - acc: 0.5659 - val_loss: 0.7146 - val_acc: 0.8305\n",
      "Epoch 2/20\n",
      "29406/29406 [==============================] - 35s - loss: 0.5380 - acc: 0.8602 - val_loss: 0.3513 - val_acc: 0.9226\n",
      "Epoch 3/20\n",
      "29406/29406 [==============================] - 31s - loss: 0.3315 - acc: 0.9156 - val_loss: 0.2461 - val_acc: 0.9431\n",
      "Epoch 4/20\n",
      "29406/29406 [==============================] - 52s - loss: 0.2408 - acc: 0.9389 - val_loss: 0.1949 - val_acc: 0.9529\n",
      "Epoch 5/20\n",
      "29406/29406 [==============================] - 42s - loss: 0.1913 - acc: 0.9497 - val_loss: 0.1536 - val_acc: 0.9672\n",
      "Epoch 6/20\n",
      "29406/29406 [==============================] - 42s - loss: 0.1550 - acc: 0.9607 - val_loss: 0.1446 - val_acc: 0.9666\n",
      "Epoch 7/20\n",
      "29406/29406 [==============================] - 40s - loss: 0.1407 - acc: 0.9631 - val_loss: 0.1267 - val_acc: 0.9727\n",
      "Epoch 8/20\n",
      "29406/29406 [==============================] - 42s - loss: 0.1176 - acc: 0.9693 - val_loss: 0.1127 - val_acc: 0.9755\n",
      "Epoch 9/20\n",
      "29406/29406 [==============================] - 46s - loss: 0.1069 - acc: 0.9722 - val_loss: 0.1201 - val_acc: 0.9735\n",
      "Epoch 10/20\n",
      "29406/29406 [==============================] - 37s - loss: 0.0981 - acc: 0.9736 - val_loss: 0.1130 - val_acc: 0.9729\n",
      "Epoch 11/20\n",
      "29406/29406 [==============================] - 45s - loss: 0.0903 - acc: 0.9764 - val_loss: 0.0893 - val_acc: 0.9806\n",
      "Epoch 12/20\n",
      "29406/29406 [==============================] - 43s - loss: 0.0855 - acc: 0.9778 - val_loss: 0.0937 - val_acc: 0.9790\n",
      "Epoch 13/20\n",
      "29406/29406 [==============================] - 44s - loss: 0.0764 - acc: 0.9798 - val_loss: 0.0929 - val_acc: 0.9779\n",
      "Epoch 14/20\n",
      "29406/29406 [==============================] - 35s - loss: 0.0676 - acc: 0.9817 - val_loss: 0.0991 - val_acc: 0.9755\n",
      "Epoch 15/20\n",
      "29406/29406 [==============================] - 23s - loss: 0.0641 - acc: 0.9827 - val_loss: 0.0853 - val_acc: 0.9812\n",
      "Epoch 16/20\n",
      "29406/29406 [==============================] - 40s - loss: 0.0679 - acc: 0.9801 - val_loss: 0.0876 - val_acc: 0.9809\n",
      "Epoch 17/20\n",
      "29406/29406 [==============================] - 44s - loss: 0.0614 - acc: 0.9841 - val_loss: 0.0870 - val_acc: 0.9800\n",
      "Epoch 18/20\n",
      "29406/29406 [==============================] - 33s - loss: 0.0546 - acc: 0.9852 - val_loss: 0.0810 - val_acc: 0.9807\n",
      "Epoch 19/20\n",
      "29406/29406 [==============================] - 41s - loss: 0.0494 - acc: 0.9864 - val_loss: 0.0826 - val_acc: 0.9823\n",
      "Epoch 20/20\n",
      "29406/29406 [==============================] - 38s - loss: 0.0492 - acc: 0.9864 - val_loss: 0.0835 - val_acc: 0.9825\n"
     ]
    }
   ],
   "source": [
    "# TODO: Re-construct the network and add dropout after the pooling layer.\n",
    "\n",
    "# TODO: Compile and train the model here.\n",
    "from keras.layers import Dropout\n",
    "\n",
    "model = Sequential()\n",
    "model.add(Conv2D(32, 3, 3, input_shape=(32, 32, 3)))\n",
    "model.add(MaxPooling2D((2,2)))\n",
    "model.add((Dropout(0.5)))\n",
    "model.add(Activation('relu'))\n",
    "model.add(Flatten())\n",
    "model.add(Dense(128, activation='relu'))\n",
    "model.add(Dense(43, activation='softmax'))\n",
    "\n",
    "model.summary()\n",
    "# TODO: Compile and train the model here.\n",
    "model.compile(loss='categorical_crossentropy',\n",
    "              optimizer='adam',\n",
    "              metrics=['accuracy'])\n",
    "history = model.fit(X_train, Y_train,\n",
    "                    batch_size=128, nb_epoch=20,\n",
    "                    verbose=1, validation_data=(X_val, Y_val))"
   ]
  },
  {
   "cell_type": "code",
   "execution_count": 54,
   "metadata": {
    "collapsed": true
   },
   "outputs": [],
   "source": [
    "# STOP: Do not change the tests below. Your implementation should pass these tests.\n",
    "assert(history.history['val_acc'][-1] > 0.95), \"The validation accuracy is: %.3f\" % history.history['val_acc'][-1]"
   ]
  },
  {
   "cell_type": "markdown",
   "metadata": {
    "collapsed": true
   },
   "source": [
    "**Validation Accuracy**:  \n",
    "98.25%"
   ]
  },
  {
   "cell_type": "markdown",
   "metadata": {},
   "source": [
    "## Optimization\n",
    "Congratulations! You've built a neural network with convolutions, pooling, dropout, and fully-connected layers, all in just a few lines of code.\n",
    "\n",
    "Have fun with the model and see how well you can do! Add more layers, or regularization, or different padding, or batches, or more training epochs.\n",
    "\n",
    "What is the best validation accuracy you can achieve?"
   ]
  },
  {
   "cell_type": "code",
   "execution_count": null,
   "metadata": {
    "collapsed": true
   },
   "outputs": [],
   "source": []
  },
  {
   "cell_type": "markdown",
   "metadata": {},
   "source": [
    "**Best Validation Accuracy:**  \n",
    "98.25%"
   ]
  },
  {
   "cell_type": "markdown",
   "metadata": {},
   "source": [
    "## Testing\n",
    "Once you've picked out your best model, it's time to test it.\n",
    "\n",
    "Load up the test data and use the [`evaluate()` method](https://keras.io/models/model/#evaluate) to see how well it does.\n",
    "\n",
    "Hint 1: The `evaluate()` method should return an array of numbers. Use the `metrics_names()` method to get the labels."
   ]
  },
  {
   "cell_type": "code",
   "execution_count": 55,
   "metadata": {
    "collapsed": false
   },
   "outputs": [
    {
     "name": "stdout",
     "output_type": "stream",
     "text": [
      "12608/12630 [============================>.] - ETA: 0s"
     ]
    },
    {
     "data": {
      "text/plain": [
       "[0.4935946452191729, 0.91163895483160429]"
      ]
     },
     "execution_count": 55,
     "metadata": {},
     "output_type": "execute_result"
    }
   ],
   "source": [
    "# TODO: Load test data\n",
    "with open('./test.p', mode='rb') as f:\n",
    "    test = pickle.load(f)\n",
    "    \n",
    "# TODO: Preprocess data & one-hot encode the labels\n",
    "X_test = test['features']\n",
    "y_test = test['labels']\n",
    "X_test = X_test.astype('float32')\n",
    "X_test /= 255\n",
    "X_test -= 0.5\n",
    "Y_test = np_utils.to_categorical(y_test, 43)\n",
    "\n",
    "# TODO: Evaluate model on test data\n",
    "model.evaluate(X_test, Y_test)"
   ]
  },
  {
   "cell_type": "markdown",
   "metadata": {},
   "source": [
    "**Test Accuracy:**\n",
    "91.16%"
   ]
  },
  {
   "cell_type": "markdown",
   "metadata": {},
   "source": [
    "## Summary\n",
    "Keras is a great tool to use if you want to quickly build a neural network and evaluate performance."
   ]
  }
 ],
 "metadata": {
  "anaconda-cloud": {},
  "kernelspec": {
   "display_name": "Python 2",
   "language": "python",
   "name": "python2"
  },
  "language_info": {
   "codemirror_mode": {
    "name": "ipython",
    "version": 2
   },
   "file_extension": ".py",
   "mimetype": "text/x-python",
   "name": "python",
   "nbconvert_exporter": "python",
   "pygments_lexer": "ipython2",
   "version": "2.7.6"
  }
 },
 "nbformat": 4,
 "nbformat_minor": 0
}
